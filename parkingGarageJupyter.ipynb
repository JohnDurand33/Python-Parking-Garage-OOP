{
 "cells": [
  {
   "cell_type": "code",
   "execution_count": 2,
   "id": "25c310bf",
   "metadata": {},
   "outputs": [
    {
     "name": "stdout",
     "output_type": "stream",
     "text": [
      "Thank you.  Your ticket number is 1 and your parking space number is 1.  Enjoy the event!\n",
      "To pay, please input the amount exactly as displayed on the screen (\"$10.00\"): $10.00\n",
      "Thank you very much.  You have 15 minutes remaining allowed inside the garage.\n",
      "Thank you very much, and have a great day!\n"
     ]
    }
   ],
   "source": [
    "class parkingGarage():\n",
    "    def __init__(self, max_tix, max_spaces, parking_database = {}):\n",
    "        self.tickets = []\n",
    "        self.parkingSpaces = []\n",
    "        self.parking_database = parking_database\n",
    "        \n",
    "        for x in range(max_tix):\n",
    "            self.tickets.append(x + 1)\n",
    "        \n",
    "        for x in range(max_spaces):\n",
    "            self.parkingSpaces.append(x + 1)\n",
    "          \n",
    "        self.ticket_num = None\n",
    "        self.park_space = None\n",
    "\n",
    "    def takeTicket(self):\n",
    "        if not self.tickets:\n",
    "            print(\"I'm sorry, we're out of parking spaces at the moment.\")\n",
    "        if self.tickets:\n",
    "            self.ticket_num = self.tickets.pop(0)\n",
    "            self.park_space = self.parkingSpaces.pop(0)\n",
    "            self.parking_database[self.ticket_num] = {'paid':False, 'space':self.park_space} \n",
    "            print(f\"Thank you.  Your ticket number is {str(self.ticket_num)} and your parking space number is {str(self.park_space)}.  Enjoy the event!\")\n",
    "\n",
    "    def payForParking(self):\n",
    "        pay_flag = True\n",
    "        while pay_flag == True:\n",
    "            self.ticket_amt = input(\"To pay, please input the amount exactly as displayed on the screen (\\\"$10.00\\\"): \")\n",
    "            if self.ticket_amt.strip() == '$10.00':\n",
    "                print(\"Thank you very much.  You have 15 minutes remaining allowed inside the garage.\")\n",
    "                self.parking_database[self.ticket_num]['paid'] = True\n",
    "                pay_flag = False\n",
    "            else:\n",
    "                print(\"I'm sorry, that amount is incorrect.\")\n",
    "            \n",
    "\n",
    "    def leaveGarage(self, park_space, ticket_num) : \n",
    "        leave_flag = True\n",
    "        while leave_flag == True:\n",
    "            if self.parking_database[self.ticket_num]['paid'] == False:\n",
    "                self.ticket_amt = input(\"Excuse me, You still need to pay before leaving.  Please input the amount displayed on the screen (\\\"$10.00\\\") or you will be\\ntowed.\")\n",
    "                if self.ticket_amt == '$10.00':\n",
    "                    self.parking_database[self.ticket_num]['paid'] = True\n",
    "                    print(\"Thank you very much, and have a great day!\")\n",
    "                    leave_flag = False\n",
    "            else:\n",
    "                self.parking_database[self.ticket_num]['space'] = None\n",
    "                self.tickets.append(self.ticket_num)\n",
    "                self.parkingSpaces.append(self.park_space)\n",
    "                print(\"Thank you very much, and have a great day!\")\n",
    "                leave_flag = False\n",
    "            \n",
    "my_garage = parkingGarage(100, 100)\n",
    "my_garage.takeTicket()\n",
    "my_garage.payForParking()\n",
    "my_garage.leaveGarage(1, 1)\n",
    "\n"
   ]
  },
  {
   "cell_type": "code",
   "execution_count": null,
   "id": "294e7136",
   "metadata": {},
   "outputs": [],
   "source": []
  }
 ],
 "metadata": {
  "kernelspec": {
   "display_name": "Python 3 (ipykernel)",
   "language": "python",
   "name": "python3"
  },
  "language_info": {
   "codemirror_mode": {
    "name": "ipython",
    "version": 3
   },
   "file_extension": ".py",
   "mimetype": "text/x-python",
   "name": "python",
   "nbconvert_exporter": "python",
   "pygments_lexer": "ipython3",
   "version": "3.11.4"
  }
 },
 "nbformat": 4,
 "nbformat_minor": 5
}
